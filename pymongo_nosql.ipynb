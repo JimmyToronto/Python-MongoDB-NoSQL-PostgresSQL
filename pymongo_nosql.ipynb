{
 "cells": [
  {
   "cell_type": "raw",
   "metadata": {},
   "source": [
    "1) Write Apple's Historial Data into MongoDB\n",
    "2) Extract Apple's Historial Data from MongoDB"
   ]
  },
  {
   "cell_type": "code",
   "execution_count": 1,
   "metadata": {
    "collapsed": true
   },
   "outputs": [],
   "source": [
    "import numpy as np\n",
    "import pandas as pd\n",
    "import json\n",
    "import pymongo"
   ]
  },
  {
   "cell_type": "code",
   "execution_count": 2,
   "metadata": {
    "collapsed": false
   },
   "outputs": [
    {
     "data": {
      "text/html": [
       "<div>\n",
       "<table border=\"1\" class=\"dataframe\">\n",
       "  <thead>\n",
       "    <tr style=\"text-align: right;\">\n",
       "      <th></th>\n",
       "      <th>Date</th>\n",
       "      <th>Open</th>\n",
       "      <th>High</th>\n",
       "      <th>Low</th>\n",
       "      <th>Close</th>\n",
       "      <th>Volume</th>\n",
       "      <th>Adj Close</th>\n",
       "    </tr>\n",
       "  </thead>\n",
       "  <tbody>\n",
       "    <tr>\n",
       "      <th>0</th>\n",
       "      <td>2017-03-31</td>\n",
       "      <td>143.720001</td>\n",
       "      <td>144.270004</td>\n",
       "      <td>143.009995</td>\n",
       "      <td>143.660004</td>\n",
       "      <td>19661700</td>\n",
       "      <td>143.660004</td>\n",
       "    </tr>\n",
       "    <tr>\n",
       "      <th>1</th>\n",
       "      <td>2017-03-30</td>\n",
       "      <td>144.190002</td>\n",
       "      <td>144.500000</td>\n",
       "      <td>143.500000</td>\n",
       "      <td>143.929993</td>\n",
       "      <td>21207300</td>\n",
       "      <td>143.929993</td>\n",
       "    </tr>\n",
       "    <tr>\n",
       "      <th>2</th>\n",
       "      <td>2017-03-29</td>\n",
       "      <td>143.679993</td>\n",
       "      <td>144.490005</td>\n",
       "      <td>143.190002</td>\n",
       "      <td>144.119995</td>\n",
       "      <td>29190000</td>\n",
       "      <td>144.119995</td>\n",
       "    </tr>\n",
       "    <tr>\n",
       "      <th>3</th>\n",
       "      <td>2017-03-28</td>\n",
       "      <td>140.910004</td>\n",
       "      <td>144.039993</td>\n",
       "      <td>140.619995</td>\n",
       "      <td>143.800003</td>\n",
       "      <td>33374800</td>\n",
       "      <td>143.800003</td>\n",
       "    </tr>\n",
       "    <tr>\n",
       "      <th>4</th>\n",
       "      <td>2017-03-27</td>\n",
       "      <td>139.389999</td>\n",
       "      <td>141.220001</td>\n",
       "      <td>138.619995</td>\n",
       "      <td>140.880005</td>\n",
       "      <td>23575100</td>\n",
       "      <td>140.880005</td>\n",
       "    </tr>\n",
       "  </tbody>\n",
       "</table>\n",
       "</div>"
      ],
      "text/plain": [
       "         Date        Open        High         Low       Close    Volume  \\\n",
       "0  2017-03-31  143.720001  144.270004  143.009995  143.660004  19661700   \n",
       "1  2017-03-30  144.190002  144.500000  143.500000  143.929993  21207300   \n",
       "2  2017-03-29  143.679993  144.490005  143.190002  144.119995  29190000   \n",
       "3  2017-03-28  140.910004  144.039993  140.619995  143.800003  33374800   \n",
       "4  2017-03-27  139.389999  141.220001  138.619995  140.880005  23575100   \n",
       "\n",
       "    Adj Close  \n",
       "0  143.660004  \n",
       "1  143.929993  \n",
       "2  144.119995  \n",
       "3  143.800003  \n",
       "4  140.880005  "
      ]
     },
     "execution_count": 2,
     "metadata": {},
     "output_type": "execute_result"
    }
   ],
   "source": [
    "# read in apple's historical data\n",
    "df=pd.read_csv(r'...\\sample data\\apple_historical_data.csv')\n",
    "df.head()"
   ]
  },
  {
   "cell_type": "code",
   "execution_count": 3,
   "metadata": {
    "collapsed": true
   },
   "outputs": [],
   "source": [
    "# transpose the original pandas DataFrame,\n",
    "# and convert it to json format\n",
    "records=json.loads(df.T.to_json()).values()"
   ]
  },
  {
   "cell_type": "code",
   "execution_count": 4,
   "metadata": {
    "collapsed": true
   },
   "outputs": [],
   "source": [
    "# establish a MongoDB connection\n",
    "conn=pymongo.MongoClient('localhost',27017)"
   ]
  },
  {
   "cell_type": "code",
   "execution_count": 5,
   "metadata": {
    "collapsed": true
   },
   "outputs": [],
   "source": [
    "# make a new database name 'stock'\n",
    "# please note that if there is an existing database with name 'stock' it will be overwritten\n",
    "databaseName='stock'\n",
    "database=conn[databaseName]"
   ]
  },
  {
   "cell_type": "code",
   "execution_count": 6,
   "metadata": {
    "collapsed": false
   },
   "outputs": [
    {
     "data": {
      "text/plain": [
       "<pymongo.results.InsertManyResult at 0x88906c0>"
      ]
     },
     "execution_count": 6,
     "metadata": {},
     "output_type": "execute_result"
    }
   ],
   "source": [
    "# make a new collection name 'apple'\n",
    "# please note that if there is an existing collection with name 'apple' it will be overwritten\n",
    "database.apple.insert_many(records)"
   ]
  },
  {
   "cell_type": "code",
   "execution_count": 7,
   "metadata": {
    "collapsed": false
   },
   "outputs": [
    {
     "data": {
      "text/html": [
       "<div>\n",
       "<table border=\"1\" class=\"dataframe\">\n",
       "  <thead>\n",
       "    <tr style=\"text-align: right;\">\n",
       "      <th></th>\n",
       "      <th>Adj Close</th>\n",
       "      <th>Close</th>\n",
       "      <th>High</th>\n",
       "      <th>Low</th>\n",
       "      <th>Open</th>\n",
       "      <th>Volume</th>\n",
       "      <th>_id</th>\n",
       "    </tr>\n",
       "    <tr>\n",
       "      <th>Date</th>\n",
       "      <th></th>\n",
       "      <th></th>\n",
       "      <th></th>\n",
       "      <th></th>\n",
       "      <th></th>\n",
       "      <th></th>\n",
       "      <th></th>\n",
       "    </tr>\n",
       "  </thead>\n",
       "  <tbody>\n",
       "    <tr>\n",
       "      <th>2017-01-03</th>\n",
       "      <td>115.648597</td>\n",
       "      <td>116.150002</td>\n",
       "      <td>116.330002</td>\n",
       "      <td>114.760002</td>\n",
       "      <td>115.800003</td>\n",
       "      <td>28781900</td>\n",
       "      <td>58ed364bd4875e29f0ed9de7</td>\n",
       "    </tr>\n",
       "    <tr>\n",
       "      <th>2017-01-04</th>\n",
       "      <td>115.519154</td>\n",
       "      <td>116.019997</td>\n",
       "      <td>116.510002</td>\n",
       "      <td>115.750000</td>\n",
       "      <td>115.849998</td>\n",
       "      <td>21118100</td>\n",
       "      <td>58ed364bd4875e29f0ed9e05</td>\n",
       "    </tr>\n",
       "    <tr>\n",
       "      <th>2017-01-05</th>\n",
       "      <td>116.106611</td>\n",
       "      <td>116.610001</td>\n",
       "      <td>116.860001</td>\n",
       "      <td>115.809998</td>\n",
       "      <td>115.919998</td>\n",
       "      <td>22193600</td>\n",
       "      <td>58ed364bd4875e29f0ed9e02</td>\n",
       "    </tr>\n",
       "    <tr>\n",
       "      <th>2017-01-06</th>\n",
       "      <td>117.401002</td>\n",
       "      <td>117.910004</td>\n",
       "      <td>118.160004</td>\n",
       "      <td>116.470001</td>\n",
       "      <td>116.779999</td>\n",
       "      <td>31751900</td>\n",
       "      <td>58ed364bd4875e29f0ed9e0e</td>\n",
       "    </tr>\n",
       "    <tr>\n",
       "      <th>2017-01-09</th>\n",
       "      <td>118.476334</td>\n",
       "      <td>118.989998</td>\n",
       "      <td>119.430000</td>\n",
       "      <td>117.940002</td>\n",
       "      <td>117.949997</td>\n",
       "      <td>33561900</td>\n",
       "      <td>58ed364bd4875e29f0ed9dd3</td>\n",
       "    </tr>\n",
       "  </tbody>\n",
       "</table>\n",
       "</div>"
      ],
      "text/plain": [
       "             Adj Close       Close        High         Low        Open  \\\n",
       "Date                                                                     \n",
       "2017-01-03  115.648597  116.150002  116.330002  114.760002  115.800003   \n",
       "2017-01-04  115.519154  116.019997  116.510002  115.750000  115.849998   \n",
       "2017-01-05  116.106611  116.610001  116.860001  115.809998  115.919998   \n",
       "2017-01-06  117.401002  117.910004  118.160004  116.470001  116.779999   \n",
       "2017-01-09  118.476334  118.989998  119.430000  117.940002  117.949997   \n",
       "\n",
       "              Volume                       _id  \n",
       "Date                                            \n",
       "2017-01-03  28781900  58ed364bd4875e29f0ed9de7  \n",
       "2017-01-04  21118100  58ed364bd4875e29f0ed9e05  \n",
       "2017-01-05  22193600  58ed364bd4875e29f0ed9e02  \n",
       "2017-01-06  31751900  58ed364bd4875e29f0ed9e0e  \n",
       "2017-01-09  33561900  58ed364bd4875e29f0ed9dd3  "
      ]
     },
     "execution_count": 7,
     "metadata": {},
     "output_type": "execute_result"
    }
   ],
   "source": [
    "# load the data from MongoDB and convert it to pandas DataFrame\n",
    "df_new=pd.DataFrame(list(database.apple.find()))\n",
    "df_new.set_index('Date',inplace=True)\n",
    "df_new.sort_index(inplace=True)\n",
    "df_new.head()"
   ]
  },
  {
   "cell_type": "code",
   "execution_count": null,
   "metadata": {
    "collapsed": true
   },
   "outputs": [],
   "source": []
  }
 ],
 "metadata": {
  "anaconda-cloud": {},
  "kernelspec": {
   "display_name": "Python [conda root]",
   "language": "python",
   "name": "conda-root-py"
  },
  "language_info": {
   "codemirror_mode": {
    "name": "ipython",
    "version": 3
   },
   "file_extension": ".py",
   "mimetype": "text/x-python",
   "name": "python",
   "nbconvert_exporter": "python",
   "pygments_lexer": "ipython3",
   "version": "3.5.2"
  }
 },
 "nbformat": 4,
 "nbformat_minor": 1
}
